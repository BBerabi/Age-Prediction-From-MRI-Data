{
 "cells": [
  {
   "cell_type": "code",
   "execution_count": 14,
   "metadata": {},
   "outputs": [],
   "source": [
    "import numpy as np\n",
    "import pandas as pd\n",
    "import matplotlib.pyplot as plt\n",
    "from sklearn.preprocessing import StandardScaler\n",
    "from sklearn.model_selection import train_test_split\n",
    "from sklearn.neighbors import NearestNeighbors\n",
    "from sklearn.feature_selection import SelectKBest, f_regression\n",
    "\n",
    "#auxiliary\n",
    "import auxilary\n",
    "\n",
    "#Feature selection with RandomForest\n",
    "from sklearn.ensemble import RandomForestClassifier\n",
    "\n",
    "#SVR\n",
    "from sklearn.svm import SVR\n",
    "from sklearn.model_selection import GridSearchCV"
   ]
  },
  {
   "cell_type": "code",
   "execution_count": 15,
   "metadata": {},
   "outputs": [
    {
     "data": {
      "text/plain": [
       "'X_train:'"
      ]
     },
     "metadata": {},
     "output_type": "display_data"
    },
    {
     "data": {
      "text/plain": [
       "(1212, 833)"
      ]
     },
     "metadata": {},
     "output_type": "display_data"
    },
    {
     "data": {
      "text/html": [
       "<div>\n",
       "<style scoped>\n",
       "    .dataframe tbody tr th:only-of-type {\n",
       "        vertical-align: middle;\n",
       "    }\n",
       "\n",
       "    .dataframe tbody tr th {\n",
       "        vertical-align: top;\n",
       "    }\n",
       "\n",
       "    .dataframe thead th {\n",
       "        text-align: right;\n",
       "    }\n",
       "</style>\n",
       "<table border=\"1\" class=\"dataframe\">\n",
       "  <thead>\n",
       "    <tr style=\"text-align: right;\">\n",
       "      <th></th>\n",
       "      <th>id</th>\n",
       "      <th>x0</th>\n",
       "      <th>x1</th>\n",
       "      <th>x2</th>\n",
       "      <th>x3</th>\n",
       "      <th>x4</th>\n",
       "      <th>x5</th>\n",
       "      <th>x6</th>\n",
       "      <th>x7</th>\n",
       "      <th>x8</th>\n",
       "      <th>...</th>\n",
       "      <th>x822</th>\n",
       "      <th>x823</th>\n",
       "      <th>x824</th>\n",
       "      <th>x825</th>\n",
       "      <th>x826</th>\n",
       "      <th>x827</th>\n",
       "      <th>x828</th>\n",
       "      <th>x829</th>\n",
       "      <th>x830</th>\n",
       "      <th>x831</th>\n",
       "    </tr>\n",
       "  </thead>\n",
       "  <tbody>\n",
       "    <tr>\n",
       "      <th>0</th>\n",
       "      <td>0.0</td>\n",
       "      <td>118345.392781</td>\n",
       "      <td>3104.010883</td>\n",
       "      <td>82378.542430</td>\n",
       "      <td>1086.678601</td>\n",
       "      <td>11395.883550</td>\n",
       "      <td>10.455601</td>\n",
       "      <td>109886.476608</td>\n",
       "      <td>1.054926e+06</td>\n",
       "      <td>101877.946528</td>\n",
       "      <td>...</td>\n",
       "      <td>10.769524</td>\n",
       "      <td>10.245068</td>\n",
       "      <td>1021.907543</td>\n",
       "      <td>1031.645762</td>\n",
       "      <td>107440.039766</td>\n",
       "      <td>107083.296966</td>\n",
       "      <td>5559.203921</td>\n",
       "      <td>10.861464</td>\n",
       "      <td>107548.413675</td>\n",
       "      <td>2.299202</td>\n",
       "    </tr>\n",
       "    <tr>\n",
       "      <th>1</th>\n",
       "      <td>1.0</td>\n",
       "      <td>NaN</td>\n",
       "      <td>5889.055991</td>\n",
       "      <td>97932.067482</td>\n",
       "      <td>1116.564363</td>\n",
       "      <td>12172.212426</td>\n",
       "      <td>10.502997</td>\n",
       "      <td>100372.504488</td>\n",
       "      <td>1.011783e+06</td>\n",
       "      <td>108852.296962</td>\n",
       "      <td>...</td>\n",
       "      <td>10.859822</td>\n",
       "      <td>10.088023</td>\n",
       "      <td>988.135968</td>\n",
       "      <td>999.044639</td>\n",
       "      <td>105238.779040</td>\n",
       "      <td>106365.468525</td>\n",
       "      <td>10334.091649</td>\n",
       "      <td>NaN</td>\n",
       "      <td>107841.227180</td>\n",
       "      <td>2.472763</td>\n",
       "    </tr>\n",
       "    <tr>\n",
       "      <th>2</th>\n",
       "      <td>2.0</td>\n",
       "      <td>95373.022035</td>\n",
       "      <td>6293.442455</td>\n",
       "      <td>93371.369288</td>\n",
       "      <td>1034.722073</td>\n",
       "      <td>11618.142107</td>\n",
       "      <td>10.947611</td>\n",
       "      <td>109337.757279</td>\n",
       "      <td>1.006491e+06</td>\n",
       "      <td>104540.883376</td>\n",
       "      <td>...</td>\n",
       "      <td>10.356015</td>\n",
       "      <td>10.514234</td>\n",
       "      <td>995.480813</td>\n",
       "      <td>898.329758</td>\n",
       "      <td>107044.005199</td>\n",
       "      <td>102704.104686</td>\n",
       "      <td>7697.875887</td>\n",
       "      <td>10.277760</td>\n",
       "      <td>103414.594212</td>\n",
       "      <td>NaN</td>\n",
       "    </tr>\n",
       "    <tr>\n",
       "      <th>3</th>\n",
       "      <td>3.0</td>\n",
       "      <td>105066.272301</td>\n",
       "      <td>3279.162164</td>\n",
       "      <td>119554.079514</td>\n",
       "      <td>1114.014483</td>\n",
       "      <td>12127.235755</td>\n",
       "      <td>10.540204</td>\n",
       "      <td>106215.391332</td>\n",
       "      <td>1.022381e+06</td>\n",
       "      <td>109597.474506</td>\n",
       "      <td>...</td>\n",
       "      <td>10.609811</td>\n",
       "      <td>10.991861</td>\n",
       "      <td>1117.179063</td>\n",
       "      <td>867.267810</td>\n",
       "      <td>100617.082858</td>\n",
       "      <td>108893.304959</td>\n",
       "      <td>6549.131099</td>\n",
       "      <td>9.337688</td>\n",
       "      <td>105722.857008</td>\n",
       "      <td>2.484935</td>\n",
       "    </tr>\n",
       "    <tr>\n",
       "      <th>4</th>\n",
       "      <td>4.0</td>\n",
       "      <td>98957.033333</td>\n",
       "      <td>4177.482190</td>\n",
       "      <td>97239.708338</td>\n",
       "      <td>1049.430921</td>\n",
       "      <td>10417.250336</td>\n",
       "      <td>10.618957</td>\n",
       "      <td>102736.470171</td>\n",
       "      <td>1.086871e+06</td>\n",
       "      <td>103340.057448</td>\n",
       "      <td>...</td>\n",
       "      <td>10.397777</td>\n",
       "      <td>NaN</td>\n",
       "      <td>863.943966</td>\n",
       "      <td>1041.278922</td>\n",
       "      <td>105352.672454</td>\n",
       "      <td>101705.692839</td>\n",
       "      <td>5388.312773</td>\n",
       "      <td>12.196382</td>\n",
       "      <td>NaN</td>\n",
       "      <td>1.930136</td>\n",
       "    </tr>\n",
       "  </tbody>\n",
       "</table>\n",
       "<p>5 rows × 833 columns</p>\n",
       "</div>"
      ],
      "text/plain": [
       "    id             x0           x1             x2           x3            x4  \\\n",
       "0  0.0  118345.392781  3104.010883   82378.542430  1086.678601  11395.883550   \n",
       "1  1.0            NaN  5889.055991   97932.067482  1116.564363  12172.212426   \n",
       "2  2.0   95373.022035  6293.442455   93371.369288  1034.722073  11618.142107   \n",
       "3  3.0  105066.272301  3279.162164  119554.079514  1114.014483  12127.235755   \n",
       "4  4.0   98957.033333  4177.482190   97239.708338  1049.430921  10417.250336   \n",
       "\n",
       "          x5             x6            x7             x8  ...       x822  \\\n",
       "0  10.455601  109886.476608  1.054926e+06  101877.946528  ...  10.769524   \n",
       "1  10.502997  100372.504488  1.011783e+06  108852.296962  ...  10.859822   \n",
       "2  10.947611  109337.757279  1.006491e+06  104540.883376  ...  10.356015   \n",
       "3  10.540204  106215.391332  1.022381e+06  109597.474506  ...  10.609811   \n",
       "4  10.618957  102736.470171  1.086871e+06  103340.057448  ...  10.397777   \n",
       "\n",
       "        x823         x824         x825           x826           x827  \\\n",
       "0  10.245068  1021.907543  1031.645762  107440.039766  107083.296966   \n",
       "1  10.088023   988.135968   999.044639  105238.779040  106365.468525   \n",
       "2  10.514234   995.480813   898.329758  107044.005199  102704.104686   \n",
       "3  10.991861  1117.179063   867.267810  100617.082858  108893.304959   \n",
       "4        NaN   863.943966  1041.278922  105352.672454  101705.692839   \n",
       "\n",
       "           x828       x829           x830      x831  \n",
       "0   5559.203921  10.861464  107548.413675  2.299202  \n",
       "1  10334.091649        NaN  107841.227180  2.472763  \n",
       "2   7697.875887  10.277760  103414.594212       NaN  \n",
       "3   6549.131099   9.337688  105722.857008  2.484935  \n",
       "4   5388.312773  12.196382            NaN  1.930136  \n",
       "\n",
       "[5 rows x 833 columns]"
      ]
     },
     "metadata": {},
     "output_type": "display_data"
    },
    {
     "data": {
      "text/plain": [
       "'y_train:'"
      ]
     },
     "metadata": {},
     "output_type": "display_data"
    },
    {
     "data": {
      "text/plain": [
       "(1212, 2)"
      ]
     },
     "metadata": {},
     "output_type": "display_data"
    },
    {
     "data": {
      "text/html": [
       "<div>\n",
       "<style scoped>\n",
       "    .dataframe tbody tr th:only-of-type {\n",
       "        vertical-align: middle;\n",
       "    }\n",
       "\n",
       "    .dataframe tbody tr th {\n",
       "        vertical-align: top;\n",
       "    }\n",
       "\n",
       "    .dataframe thead th {\n",
       "        text-align: right;\n",
       "    }\n",
       "</style>\n",
       "<table border=\"1\" class=\"dataframe\">\n",
       "  <thead>\n",
       "    <tr style=\"text-align: right;\">\n",
       "      <th></th>\n",
       "      <th>id</th>\n",
       "      <th>y</th>\n",
       "    </tr>\n",
       "  </thead>\n",
       "  <tbody>\n",
       "    <tr>\n",
       "      <th>0</th>\n",
       "      <td>0.0</td>\n",
       "      <td>75.0</td>\n",
       "    </tr>\n",
       "    <tr>\n",
       "      <th>1</th>\n",
       "      <td>1.0</td>\n",
       "      <td>53.0</td>\n",
       "    </tr>\n",
       "    <tr>\n",
       "      <th>2</th>\n",
       "      <td>2.0</td>\n",
       "      <td>78.0</td>\n",
       "    </tr>\n",
       "    <tr>\n",
       "      <th>3</th>\n",
       "      <td>3.0</td>\n",
       "      <td>65.0</td>\n",
       "    </tr>\n",
       "    <tr>\n",
       "      <th>4</th>\n",
       "      <td>4.0</td>\n",
       "      <td>86.0</td>\n",
       "    </tr>\n",
       "  </tbody>\n",
       "</table>\n",
       "</div>"
      ],
      "text/plain": [
       "    id     y\n",
       "0  0.0  75.0\n",
       "1  1.0  53.0\n",
       "2  2.0  78.0\n",
       "3  3.0  65.0\n",
       "4  4.0  86.0"
      ]
     },
     "metadata": {},
     "output_type": "display_data"
    }
   ],
   "source": [
    "# Import Training Set\n",
    "\n",
    "X_train = pd.read_csv(\"X_train.csv\")\n",
    "y_train = pd.read_csv(r\"y_train.csv\")\n",
    "\n",
    "display('X_train:', X_train.shape, X_train.head())\n",
    "display('y_train:', y_train.shape, y_train.head())"
   ]
  },
  {
   "cell_type": "code",
   "execution_count": 16,
   "metadata": {},
   "outputs": [
    {
     "data": {
      "text/plain": [
       "'X_train.head():'"
      ]
     },
     "metadata": {},
     "output_type": "display_data"
    },
    {
     "data": {
      "text/html": [
       "<div>\n",
       "<style scoped>\n",
       "    .dataframe tbody tr th:only-of-type {\n",
       "        vertical-align: middle;\n",
       "    }\n",
       "\n",
       "    .dataframe tbody tr th {\n",
       "        vertical-align: top;\n",
       "    }\n",
       "\n",
       "    .dataframe thead th {\n",
       "        text-align: right;\n",
       "    }\n",
       "</style>\n",
       "<table border=\"1\" class=\"dataframe\">\n",
       "  <thead>\n",
       "    <tr style=\"text-align: right;\">\n",
       "      <th></th>\n",
       "      <th>x0</th>\n",
       "      <th>x1</th>\n",
       "      <th>x2</th>\n",
       "      <th>x3</th>\n",
       "      <th>x4</th>\n",
       "      <th>x5</th>\n",
       "      <th>x6</th>\n",
       "      <th>x7</th>\n",
       "      <th>x8</th>\n",
       "      <th>x9</th>\n",
       "      <th>...</th>\n",
       "      <th>x822</th>\n",
       "      <th>x823</th>\n",
       "      <th>x824</th>\n",
       "      <th>x825</th>\n",
       "      <th>x826</th>\n",
       "      <th>x827</th>\n",
       "      <th>x828</th>\n",
       "      <th>x829</th>\n",
       "      <th>x830</th>\n",
       "      <th>x831</th>\n",
       "    </tr>\n",
       "  </thead>\n",
       "  <tbody>\n",
       "    <tr>\n",
       "      <th>0</th>\n",
       "      <td>118345.392781</td>\n",
       "      <td>3104.010883</td>\n",
       "      <td>82378.542430</td>\n",
       "      <td>1086.678601</td>\n",
       "      <td>11395.883550</td>\n",
       "      <td>10.455601</td>\n",
       "      <td>109886.476608</td>\n",
       "      <td>1.054926e+06</td>\n",
       "      <td>101877.946528</td>\n",
       "      <td>2.550290</td>\n",
       "      <td>...</td>\n",
       "      <td>10.769524</td>\n",
       "      <td>10.245068</td>\n",
       "      <td>1021.907543</td>\n",
       "      <td>1031.645762</td>\n",
       "      <td>107440.039766</td>\n",
       "      <td>107083.296966</td>\n",
       "      <td>5559.203921</td>\n",
       "      <td>10.861464</td>\n",
       "      <td>107548.413675</td>\n",
       "      <td>2.299202</td>\n",
       "    </tr>\n",
       "    <tr>\n",
       "      <th>1</th>\n",
       "      <td>NaN</td>\n",
       "      <td>5889.055991</td>\n",
       "      <td>97932.067482</td>\n",
       "      <td>1116.564363</td>\n",
       "      <td>12172.212426</td>\n",
       "      <td>10.502997</td>\n",
       "      <td>100372.504488</td>\n",
       "      <td>1.011783e+06</td>\n",
       "      <td>108852.296962</td>\n",
       "      <td>2.579040</td>\n",
       "      <td>...</td>\n",
       "      <td>10.859822</td>\n",
       "      <td>10.088023</td>\n",
       "      <td>988.135968</td>\n",
       "      <td>999.044639</td>\n",
       "      <td>105238.779040</td>\n",
       "      <td>106365.468525</td>\n",
       "      <td>10334.091649</td>\n",
       "      <td>NaN</td>\n",
       "      <td>107841.227180</td>\n",
       "      <td>2.472763</td>\n",
       "    </tr>\n",
       "    <tr>\n",
       "      <th>2</th>\n",
       "      <td>95373.022035</td>\n",
       "      <td>6293.442455</td>\n",
       "      <td>93371.369288</td>\n",
       "      <td>1034.722073</td>\n",
       "      <td>11618.142107</td>\n",
       "      <td>10.947611</td>\n",
       "      <td>109337.757279</td>\n",
       "      <td>1.006491e+06</td>\n",
       "      <td>104540.883376</td>\n",
       "      <td>2.573247</td>\n",
       "      <td>...</td>\n",
       "      <td>10.356015</td>\n",
       "      <td>10.514234</td>\n",
       "      <td>995.480813</td>\n",
       "      <td>898.329758</td>\n",
       "      <td>107044.005199</td>\n",
       "      <td>102704.104686</td>\n",
       "      <td>7697.875887</td>\n",
       "      <td>10.277760</td>\n",
       "      <td>103414.594212</td>\n",
       "      <td>NaN</td>\n",
       "    </tr>\n",
       "    <tr>\n",
       "      <th>3</th>\n",
       "      <td>105066.272301</td>\n",
       "      <td>3279.162164</td>\n",
       "      <td>119554.079514</td>\n",
       "      <td>1114.014483</td>\n",
       "      <td>12127.235755</td>\n",
       "      <td>10.540204</td>\n",
       "      <td>106215.391332</td>\n",
       "      <td>1.022381e+06</td>\n",
       "      <td>109597.474506</td>\n",
       "      <td>2.693256</td>\n",
       "      <td>...</td>\n",
       "      <td>10.609811</td>\n",
       "      <td>10.991861</td>\n",
       "      <td>1117.179063</td>\n",
       "      <td>867.267810</td>\n",
       "      <td>100617.082858</td>\n",
       "      <td>108893.304959</td>\n",
       "      <td>6549.131099</td>\n",
       "      <td>9.337688</td>\n",
       "      <td>105722.857008</td>\n",
       "      <td>2.484935</td>\n",
       "    </tr>\n",
       "    <tr>\n",
       "      <th>4</th>\n",
       "      <td>98957.033333</td>\n",
       "      <td>4177.482190</td>\n",
       "      <td>97239.708338</td>\n",
       "      <td>1049.430921</td>\n",
       "      <td>10417.250336</td>\n",
       "      <td>10.618957</td>\n",
       "      <td>102736.470171</td>\n",
       "      <td>1.086871e+06</td>\n",
       "      <td>103340.057448</td>\n",
       "      <td>2.540610</td>\n",
       "      <td>...</td>\n",
       "      <td>10.397777</td>\n",
       "      <td>NaN</td>\n",
       "      <td>863.943966</td>\n",
       "      <td>1041.278922</td>\n",
       "      <td>105352.672454</td>\n",
       "      <td>101705.692839</td>\n",
       "      <td>5388.312773</td>\n",
       "      <td>12.196382</td>\n",
       "      <td>NaN</td>\n",
       "      <td>1.930136</td>\n",
       "    </tr>\n",
       "  </tbody>\n",
       "</table>\n",
       "<p>5 rows × 832 columns</p>\n",
       "</div>"
      ],
      "text/plain": [
       "              x0           x1             x2           x3            x4  \\\n",
       "0  118345.392781  3104.010883   82378.542430  1086.678601  11395.883550   \n",
       "1            NaN  5889.055991   97932.067482  1116.564363  12172.212426   \n",
       "2   95373.022035  6293.442455   93371.369288  1034.722073  11618.142107   \n",
       "3  105066.272301  3279.162164  119554.079514  1114.014483  12127.235755   \n",
       "4   98957.033333  4177.482190   97239.708338  1049.430921  10417.250336   \n",
       "\n",
       "          x5             x6            x7             x8        x9  ...  \\\n",
       "0  10.455601  109886.476608  1.054926e+06  101877.946528  2.550290  ...   \n",
       "1  10.502997  100372.504488  1.011783e+06  108852.296962  2.579040  ...   \n",
       "2  10.947611  109337.757279  1.006491e+06  104540.883376  2.573247  ...   \n",
       "3  10.540204  106215.391332  1.022381e+06  109597.474506  2.693256  ...   \n",
       "4  10.618957  102736.470171  1.086871e+06  103340.057448  2.540610  ...   \n",
       "\n",
       "        x822       x823         x824         x825           x826  \\\n",
       "0  10.769524  10.245068  1021.907543  1031.645762  107440.039766   \n",
       "1  10.859822  10.088023   988.135968   999.044639  105238.779040   \n",
       "2  10.356015  10.514234   995.480813   898.329758  107044.005199   \n",
       "3  10.609811  10.991861  1117.179063   867.267810  100617.082858   \n",
       "4  10.397777        NaN   863.943966  1041.278922  105352.672454   \n",
       "\n",
       "            x827          x828       x829           x830      x831  \n",
       "0  107083.296966   5559.203921  10.861464  107548.413675  2.299202  \n",
       "1  106365.468525  10334.091649        NaN  107841.227180  2.472763  \n",
       "2  102704.104686   7697.875887  10.277760  103414.594212       NaN  \n",
       "3  108893.304959   6549.131099   9.337688  105722.857008  2.484935  \n",
       "4  101705.692839   5388.312773  12.196382            NaN  1.930136  \n",
       "\n",
       "[5 rows x 832 columns]"
      ]
     },
     "metadata": {},
     "output_type": "display_data"
    },
    {
     "name": "stdout",
     "output_type": "stream",
     "text": [
      "X_train.shape: (1212, 832)\n",
      " \n"
     ]
    },
    {
     "data": {
      "text/plain": [
       "'y_train.head():'"
      ]
     },
     "metadata": {},
     "output_type": "display_data"
    },
    {
     "data": {
      "text/html": [
       "<div>\n",
       "<style scoped>\n",
       "    .dataframe tbody tr th:only-of-type {\n",
       "        vertical-align: middle;\n",
       "    }\n",
       "\n",
       "    .dataframe tbody tr th {\n",
       "        vertical-align: top;\n",
       "    }\n",
       "\n",
       "    .dataframe thead th {\n",
       "        text-align: right;\n",
       "    }\n",
       "</style>\n",
       "<table border=\"1\" class=\"dataframe\">\n",
       "  <thead>\n",
       "    <tr style=\"text-align: right;\">\n",
       "      <th></th>\n",
       "      <th>y</th>\n",
       "    </tr>\n",
       "  </thead>\n",
       "  <tbody>\n",
       "    <tr>\n",
       "      <th>0</th>\n",
       "      <td>75.0</td>\n",
       "    </tr>\n",
       "    <tr>\n",
       "      <th>1</th>\n",
       "      <td>53.0</td>\n",
       "    </tr>\n",
       "    <tr>\n",
       "      <th>2</th>\n",
       "      <td>78.0</td>\n",
       "    </tr>\n",
       "    <tr>\n",
       "      <th>3</th>\n",
       "      <td>65.0</td>\n",
       "    </tr>\n",
       "    <tr>\n",
       "      <th>4</th>\n",
       "      <td>86.0</td>\n",
       "    </tr>\n",
       "  </tbody>\n",
       "</table>\n",
       "</div>"
      ],
      "text/plain": [
       "      y\n",
       "0  75.0\n",
       "1  53.0\n",
       "2  78.0\n",
       "3  65.0\n",
       "4  86.0"
      ]
     },
     "metadata": {},
     "output_type": "display_data"
    },
    {
     "name": "stdout",
     "output_type": "stream",
     "text": [
      "y_train.shape: (1212, 1)\n"
     ]
    }
   ],
   "source": [
    "# Drop id column for X_train and y_train\n",
    "\n",
    "X_train = X_train.drop(columns='id', axis=1)\n",
    "display(\"X_train.head():\", X_train.head())\n",
    "print(\"X_train.shape:\", X_train.shape)\n",
    "\n",
    "print(\" \")\n",
    "\n",
    "y_train = y_train.drop(columns='id', axis=1)\n",
    "display(\"y_train.head():\", y_train.head())\n",
    "print(\"y_train.shape:\", y_train.shape)"
   ]
  },
  {
   "cell_type": "markdown",
   "metadata": {},
   "source": [
    "### FILL IN NaNs"
   ]
  },
  {
   "cell_type": "code",
   "execution_count": 17,
   "metadata": {},
   "outputs": [
    {
     "data": {
      "text/html": [
       "<div>\n",
       "<style scoped>\n",
       "    .dataframe tbody tr th:only-of-type {\n",
       "        vertical-align: middle;\n",
       "    }\n",
       "\n",
       "    .dataframe tbody tr th {\n",
       "        vertical-align: top;\n",
       "    }\n",
       "\n",
       "    .dataframe thead th {\n",
       "        text-align: right;\n",
       "    }\n",
       "</style>\n",
       "<table border=\"1\" class=\"dataframe\">\n",
       "  <thead>\n",
       "    <tr style=\"text-align: right;\">\n",
       "      <th></th>\n",
       "      <th>x0</th>\n",
       "      <th>x1</th>\n",
       "      <th>x2</th>\n",
       "      <th>x3</th>\n",
       "      <th>x4</th>\n",
       "      <th>x5</th>\n",
       "      <th>x6</th>\n",
       "      <th>x7</th>\n",
       "      <th>x8</th>\n",
       "      <th>x9</th>\n",
       "      <th>...</th>\n",
       "      <th>x822</th>\n",
       "      <th>x823</th>\n",
       "      <th>x824</th>\n",
       "      <th>x825</th>\n",
       "      <th>x826</th>\n",
       "      <th>x827</th>\n",
       "      <th>x828</th>\n",
       "      <th>x829</th>\n",
       "      <th>x830</th>\n",
       "      <th>x831</th>\n",
       "    </tr>\n",
       "  </thead>\n",
       "  <tbody>\n",
       "    <tr>\n",
       "      <th>0</th>\n",
       "      <td>1.183454e+05</td>\n",
       "      <td>3104.010883</td>\n",
       "      <td>82378.542430</td>\n",
       "      <td>1086.678601</td>\n",
       "      <td>11395.883550</td>\n",
       "      <td>10.455601</td>\n",
       "      <td>109886.476608</td>\n",
       "      <td>1.054926e+06</td>\n",
       "      <td>101877.946528</td>\n",
       "      <td>2.550290</td>\n",
       "      <td>...</td>\n",
       "      <td>10.769524</td>\n",
       "      <td>1.024507e+01</td>\n",
       "      <td>1021.907543</td>\n",
       "      <td>1031.645762</td>\n",
       "      <td>107440.039766</td>\n",
       "      <td>107083.296966</td>\n",
       "      <td>5559.203921</td>\n",
       "      <td>1.086146e+01</td>\n",
       "      <td>1.075484e+05</td>\n",
       "      <td>2.299202e+00</td>\n",
       "    </tr>\n",
       "    <tr>\n",
       "      <th>1</th>\n",
       "      <td>-2.848199e+17</td>\n",
       "      <td>5889.055991</td>\n",
       "      <td>97932.067482</td>\n",
       "      <td>1116.564363</td>\n",
       "      <td>12172.212426</td>\n",
       "      <td>10.502997</td>\n",
       "      <td>100372.504488</td>\n",
       "      <td>1.011783e+06</td>\n",
       "      <td>108852.296962</td>\n",
       "      <td>2.579040</td>\n",
       "      <td>...</td>\n",
       "      <td>10.859822</td>\n",
       "      <td>1.008802e+01</td>\n",
       "      <td>988.135968</td>\n",
       "      <td>999.044639</td>\n",
       "      <td>105238.779040</td>\n",
       "      <td>106365.468525</td>\n",
       "      <td>10334.091649</td>\n",
       "      <td>-2.848199e+17</td>\n",
       "      <td>1.078412e+05</td>\n",
       "      <td>2.472763e+00</td>\n",
       "    </tr>\n",
       "    <tr>\n",
       "      <th>2</th>\n",
       "      <td>9.537302e+04</td>\n",
       "      <td>6293.442455</td>\n",
       "      <td>93371.369288</td>\n",
       "      <td>1034.722073</td>\n",
       "      <td>11618.142107</td>\n",
       "      <td>10.947611</td>\n",
       "      <td>109337.757279</td>\n",
       "      <td>1.006491e+06</td>\n",
       "      <td>104540.883376</td>\n",
       "      <td>2.573247</td>\n",
       "      <td>...</td>\n",
       "      <td>10.356015</td>\n",
       "      <td>1.051423e+01</td>\n",
       "      <td>995.480813</td>\n",
       "      <td>898.329758</td>\n",
       "      <td>107044.005199</td>\n",
       "      <td>102704.104686</td>\n",
       "      <td>7697.875887</td>\n",
       "      <td>1.027776e+01</td>\n",
       "      <td>1.034146e+05</td>\n",
       "      <td>-2.848199e+17</td>\n",
       "    </tr>\n",
       "    <tr>\n",
       "      <th>3</th>\n",
       "      <td>1.050663e+05</td>\n",
       "      <td>3279.162164</td>\n",
       "      <td>119554.079514</td>\n",
       "      <td>1114.014483</td>\n",
       "      <td>12127.235755</td>\n",
       "      <td>10.540204</td>\n",
       "      <td>106215.391332</td>\n",
       "      <td>1.022381e+06</td>\n",
       "      <td>109597.474506</td>\n",
       "      <td>2.693256</td>\n",
       "      <td>...</td>\n",
       "      <td>10.609811</td>\n",
       "      <td>1.099186e+01</td>\n",
       "      <td>1117.179063</td>\n",
       "      <td>867.267810</td>\n",
       "      <td>100617.082858</td>\n",
       "      <td>108893.304959</td>\n",
       "      <td>6549.131099</td>\n",
       "      <td>9.337688e+00</td>\n",
       "      <td>1.057229e+05</td>\n",
       "      <td>2.484935e+00</td>\n",
       "    </tr>\n",
       "    <tr>\n",
       "      <th>4</th>\n",
       "      <td>9.895703e+04</td>\n",
       "      <td>4177.482190</td>\n",
       "      <td>97239.708338</td>\n",
       "      <td>1049.430921</td>\n",
       "      <td>10417.250336</td>\n",
       "      <td>10.618957</td>\n",
       "      <td>102736.470171</td>\n",
       "      <td>1.086871e+06</td>\n",
       "      <td>103340.057448</td>\n",
       "      <td>2.540610</td>\n",
       "      <td>...</td>\n",
       "      <td>10.397777</td>\n",
       "      <td>-2.848199e+17</td>\n",
       "      <td>863.943966</td>\n",
       "      <td>1041.278922</td>\n",
       "      <td>105352.672454</td>\n",
       "      <td>101705.692839</td>\n",
       "      <td>5388.312773</td>\n",
       "      <td>1.219638e+01</td>\n",
       "      <td>-2.848199e+17</td>\n",
       "      <td>1.930136e+00</td>\n",
       "    </tr>\n",
       "  </tbody>\n",
       "</table>\n",
       "<p>5 rows × 832 columns</p>\n",
       "</div>"
      ],
      "text/plain": [
       "             x0           x1             x2           x3            x4  \\\n",
       "0  1.183454e+05  3104.010883   82378.542430  1086.678601  11395.883550   \n",
       "1 -2.848199e+17  5889.055991   97932.067482  1116.564363  12172.212426   \n",
       "2  9.537302e+04  6293.442455   93371.369288  1034.722073  11618.142107   \n",
       "3  1.050663e+05  3279.162164  119554.079514  1114.014483  12127.235755   \n",
       "4  9.895703e+04  4177.482190   97239.708338  1049.430921  10417.250336   \n",
       "\n",
       "          x5             x6            x7             x8        x9  ...  \\\n",
       "0  10.455601  109886.476608  1.054926e+06  101877.946528  2.550290  ...   \n",
       "1  10.502997  100372.504488  1.011783e+06  108852.296962  2.579040  ...   \n",
       "2  10.947611  109337.757279  1.006491e+06  104540.883376  2.573247  ...   \n",
       "3  10.540204  106215.391332  1.022381e+06  109597.474506  2.693256  ...   \n",
       "4  10.618957  102736.470171  1.086871e+06  103340.057448  2.540610  ...   \n",
       "\n",
       "        x822          x823         x824         x825           x826  \\\n",
       "0  10.769524  1.024507e+01  1021.907543  1031.645762  107440.039766   \n",
       "1  10.859822  1.008802e+01   988.135968   999.044639  105238.779040   \n",
       "2  10.356015  1.051423e+01   995.480813   898.329758  107044.005199   \n",
       "3  10.609811  1.099186e+01  1117.179063   867.267810  100617.082858   \n",
       "4  10.397777 -2.848199e+17   863.943966  1041.278922  105352.672454   \n",
       "\n",
       "            x827          x828          x829          x830          x831  \n",
       "0  107083.296966   5559.203921  1.086146e+01  1.075484e+05  2.299202e+00  \n",
       "1  106365.468525  10334.091649 -2.848199e+17  1.078412e+05  2.472763e+00  \n",
       "2  102704.104686   7697.875887  1.027776e+01  1.034146e+05 -2.848199e+17  \n",
       "3  108893.304959   6549.131099  9.337688e+00  1.057229e+05  2.484935e+00  \n",
       "4  101705.692839   5388.312773  1.219638e+01 -2.848199e+17  1.930136e+00  \n",
       "\n",
       "[5 rows x 832 columns]"
      ]
     },
     "metadata": {},
     "output_type": "display_data"
    },
    {
     "data": {
      "text/plain": [
       "'Total Number of NaN in X_train:'"
      ]
     },
     "metadata": {},
     "output_type": "display_data"
    },
    {
     "data": {
      "text/plain": [
       "0"
      ]
     },
     "metadata": {},
     "output_type": "display_data"
    },
    {
     "name": "stdout",
     "output_type": "stream",
     "text": [
      " \n",
      "X_train.shape: (1212, 832)\n"
     ]
    }
   ],
   "source": [
    "# Fill in data with mean\n",
    "\n",
    "X_train.fillna(np.nanmean(X_train), inplace=True)\n",
    "display(X_train.head())\n",
    "\n",
    "# and look at NaNs\n",
    "\n",
    "display(\"Total Number of NaN in X_train:\", X_train.isna().sum(axis=1).sum(axis=0))\n",
    "print(\" \")\n",
    "print(\"X_train.shape:\", X_train.shape)"
   ]
  },
  {
   "cell_type": "markdown",
   "metadata": {},
   "source": [
    "### OUTLIER DETECTION"
   ]
  },
  {
   "cell_type": "code",
   "execution_count": 18,
   "metadata": {},
   "outputs": [],
   "source": [
    "# Outlier detection via Euclidean distance\n",
    "\n",
    "# Calculate mean distance to 10 nearest neighbors\n",
    "\n",
    "#neigh = NearestNeighbors(n_neighbors=10)\n",
    "#neigh.fit(X_train)\n",
    "\n",
    "#mean_dist_10NN_vec, indices = neigh.kneighbors(X_train, return_distance=True)\n",
    "#print(\"mean_dist_10NN_vec.shape:\", mean_dist_10NN_vec.shape)\n",
    "\n",
    "#mean_dist_10NN_dp = mean_dist_10NN_vec.mean(axis=1)\n",
    "#print(\"mean_dist_10NN_dp:\", mean_dist_10NN_dp)\n",
    "\n",
    "\n",
    "#factor = 1.5\n",
    "#mean_dist_tot = mean_dist_10NN_vec.mean()\n",
    "#threshold = factor * mean_dist_tot\n",
    "#print(\"threshold:\", threshold)\n",
    "\n",
    "# find indices to be removed\n",
    "\n",
    "#index_to_be_removed = mean_dist_10NN_dp > threshold\n",
    "#print(\"Number of indices to be removed:\", index_to_be_removed.sum())\n",
    "\n",
    "# Remove indices of the dataset\n",
    "\n",
    "#display(\"X_train.shape:\", X_train.shape)\n",
    "\n",
    "# Transform X_train to numpy array\n",
    "#X_train = X_train.to_numpy()\n",
    "#display(X_train)\n",
    "\n",
    "# Transform y_train to numpy array\n",
    "#y_train = y_train.to_numpy()\n",
    "\n",
    "# Delete indices \n",
    "#X_train = np.delete(X_train, np.where(index_to_be_removed), axis=0)\n",
    "\n",
    "#y_train = np.delete(y_train, np.where(index_to_be_removed), axis=0)\n",
    "#print(\"And also drop respective datapoints in y_train\", y_train.shape[0])\n",
    "\n",
    "# Transform both X_train and y_train back to DataFrames\n",
    "\n",
    "#X_train = pd.DataFrame(X_train)\n",
    "#y_train = pd.DataFrame(y_train)\n",
    "\n",
    "#print(\"X_train.shape:\", X_train.shape)\n",
    "#print(\"y_train.shape:\", y_train.shape)"
   ]
  },
  {
   "cell_type": "markdown",
   "metadata": {},
   "source": [
    "Note: change either KNN (number of neighbors) or factor // alternative: through a certain percentage of data with biggest avg distance"
   ]
  },
  {
   "cell_type": "code",
   "execution_count": 19,
   "metadata": {},
   "outputs": [
    {
     "name": "stdout",
     "output_type": "stream",
     "text": [
      "Number Of Outliers: 0\n",
      "Shape after outlier detection:  (1212, 832)\n"
     ]
    }
   ],
   "source": [
    "# Outlier detection via IsolationForest\n",
    "\n",
    "X_train, y_train = auxilary.OutlierDetectionIsolationForest(X_train, y_train, percentageOutlier = 'auto')\n",
    "print(\"Shape after outlier detection: \", X_train.shape)"
   ]
  },
  {
   "cell_type": "markdown",
   "metadata": {},
   "source": [
    "### FEATURE SELECTION"
   ]
  },
  {
   "cell_type": "code",
   "execution_count": 20,
   "metadata": {},
   "outputs": [
    {
     "name": "stderr",
     "output_type": "stream",
     "text": [
      "/Users/pedro.roig.aparicio@ibm.com/anaconda3/lib/python3.7/site-packages/sklearn/ensemble/forest.py:245: FutureWarning: The default value of n_estimators will change from 10 in version 0.20 to 100 in 0.22.\n",
      "  \"10 in version 0.20 to 100 in 0.22.\", FutureWarning)\n",
      "/Users/pedro.roig.aparicio@ibm.com/anaconda3/lib/python3.7/site-packages/ipykernel_launcher.py:3: DataConversionWarning: A column-vector y was passed when a 1d array was expected. Please change the shape of y to (n_samples,), for example using ravel().\n",
      "  This is separate from the ipykernel package so we can avoid doing imports until\n"
     ]
    },
    {
     "data": {
      "image/png": "[encoded data removed]",
      "text/plain": [
       "<Figure size 432x288 with 1 Axes>"
      ]
     },
     "metadata": {
      "needs_background": "light"
     },
     "output_type": "display_data"
    }
   ],
   "source": [
    "# Select best features\n",
    "random_Forest = RandomForestClassifier(random_state=0, n_jobs=-1)\n",
    "model = random_Forest.fit(X_train, y_train)\n",
    "\n",
    "# print diagram of feature importance\n",
    "importances = model.feature_importances_\n",
    "indices = np.argsort(importances)[::-1]\n",
    "plt.figure()\n",
    "plt.title(\"Feature Importance\")\n",
    "plt.bar(range(X_train.shape[1]), importances[indices])\n",
    "plt.xticks(range(X_train.shape[1]), rotation=90)\n",
    "plt.show()"
   ]
  },
  {
   "cell_type": "code",
   "execution_count": 21,
   "metadata": {},
   "outputs": [
    {
     "name": "stdout",
     "output_type": "stream",
     "text": [
      "Shape after feature selection:  (1212, 150)\n"
     ]
    },
    {
     "name": "stderr",
     "output_type": "stream",
     "text": [
      "/Users/pedro.roig.aparicio@ibm.com/anaconda3/lib/python3.7/site-packages/sklearn/utils/validation.py:724: DataConversionWarning: A column-vector y was passed when a 1d array was expected. Please change the shape of y to (n_samples, ), for example using ravel().\n",
      "  y = column_or_1d(y, warn=True)\n"
     ]
    }
   ],
   "source": [
    "# -> PROVISIONAL MANUALLY; THIS WILL BE DEFINED BY ITERATING\n",
    "inputDim = 150\n",
    "\n",
    "featureSelection = SelectKBest(f_regression, k = inputDim)\n",
    "X_train = featureSelection.fit_transform(X_train, y_train)\n",
    "\n",
    "print(\"Shape after feature selection: \", X_train.shape)"
   ]
  },
  {
   "cell_type": "markdown",
   "metadata": {},
   "source": [
    "### TRAIN-TEST-SPLIT"
   ]
  },
  {
   "cell_type": "code",
   "execution_count": 22,
   "metadata": {},
   "outputs": [],
   "source": [
    "# Split in Training & Test for Cross validation\n",
    "\n",
    "X_train, X_val, y_train, y_val = train_test_split(X_train, y_train, test_size=0.1, random_state=4)"
   ]
  },
  {
   "cell_type": "code",
   "execution_count": 23,
   "metadata": {},
   "outputs": [
    {
     "name": "stdout",
     "output_type": "stream",
     "text": [
      "X_train.shape: (1090, 150)\n",
      "X_test.shape: (122, 150)\n"
     ]
    }
   ],
   "source": [
    "# Inspect current X_train and X_test\n",
    "\n",
    "print(\"X_train.shape:\", X_train.shape)\n",
    "print(\"X_test.shape:\", X_val.shape)"
   ]
  },
  {
   "cell_type": "markdown",
   "metadata": {},
   "source": [
    "### STANDARDIZE"
   ]
  },
  {
   "cell_type": "code",
   "execution_count": 24,
   "metadata": {},
   "outputs": [
    {
     "data": {
      "text/plain": [
       "'This is the mean of the non-standardized dataset:'"
      ]
     },
     "metadata": {},
     "output_type": "display_data"
    },
    {
     "data": {
      "text/plain": [
       "-1.482501623397296e+18"
      ]
     },
     "metadata": {},
     "output_type": "display_data"
    },
    {
     "name": "stdout",
     "output_type": "stream",
     "text": [
      "Mean X_train after standardized: 3.8271768527012684e-16\n"
     ]
    }
   ],
   "source": [
    "total_mean_non_standardized = X_train.mean().mean()\n",
    "display(\"This is the mean of the non-standardized dataset:\", total_mean_non_standardized)\n",
    "\n",
    "# Standardize\n",
    "\n",
    "scaler = StandardScaler()\n",
    "\n",
    "X_train = scaler.fit_transform(X_train)\n",
    "print(\"Mean X_train after standardized:\", X_train.mean(axis=0).mean(axis=0))\n",
    "\n",
    "y_train = y_train.values.ravel()"
   ]
  },
  {
   "cell_type": "markdown",
   "metadata": {},
   "source": [
    "### SVR"
   ]
  },
  {
   "cell_type": "code",
   "execution_count": 25,
   "metadata": {},
   "outputs": [
    {
     "name": "stdout",
     "output_type": "stream",
     "text": [
      "Regressor score: -0.039281439899504944\n",
      "r_2 score: -0.039281439899504944\n"
     ]
    }
   ],
   "source": [
    "# Do SVR with Gaussian Kernel\n",
    "# First try\n",
    "\n",
    "regressor = SVR(kernel='rbf',gamma='scale')\n",
    "regressor.fit(X_train,y_train)\n",
    "\n",
    "y_pred_try1=regressor.predict(X_val)\n",
    "\n",
    "print(\"Regressor score:\", regressor.score(X_val, y_val))\n",
    "from sklearn.metrics import r2_score\n",
    "print(\"r_2 score:\", r2_score(y_val,y_pred_try1))"
   ]
  },
  {
   "cell_type": "code",
   "execution_count": 26,
   "metadata": {},
   "outputs": [
    {
     "name": "stdout",
     "output_type": "stream",
     "text": [
      "Best parameters set found on development set:\n",
      "\n",
      "{'C': 10}\n",
      "\n",
      "r^2 score: -0.03164237970553119\n"
     ]
    }
   ],
   "source": [
    "# Improve parameters with GridSearchCV\n",
    "    \n",
    "parameters = {'C':[1, 10, 100, 1000]}\n",
    "svr = SVR(kernel='rbf', gamma=\"scale\")\n",
    "clf = GridSearchCV(svr, parameters, cv=10)\n",
    "clf.fit(X_train, y_train)\n",
    "\n",
    "print(\"Best parameters set found on development set:\")\n",
    "print()\n",
    "print(clf.best_params_)\n",
    "print()\n",
    "\n",
    "y_pred = clf.predict(X_val)\n",
    "print(\"r^2 score:\", r2_score(y_val,y_pred))"
   ]
  },
  {
   "cell_type": "markdown",
   "metadata": {},
   "source": [
    "### FINAL SUBMISSION"
   ]
  },
  {
   "cell_type": "code",
   "execution_count": null,
   "metadata": {},
   "outputs": [],
   "source": []
  },
  {
   "cell_type": "code",
   "execution_count": null,
   "metadata": {},
   "outputs": [],
   "source": []
  }
 ],
 "metadata": {
  "kernelspec": {
   "display_name": "Python 3",
   "language": "python",
   "name": "python3"
  },
  "language_info": {
   "codemirror_mode": {
    "name": "ipython",
    "version": 3
   },
   "file_extension": ".py",
   "mimetype": "text/x-python",
   "name": "python",
   "nbconvert_exporter": "python",
   "pygments_lexer": "ipython3",
   "version": "3.6.5"
  }
 },
 "nbformat": 4,
 "nbformat_minor": 4
}
