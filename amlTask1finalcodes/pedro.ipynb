{
 "cells": [
  {
   "cell_type": "code",
   "execution_count": 1,
   "metadata": {},
   "outputs": [],
   "source": [
    "import numpy as np\n",
    "import pandas as pd\n",
    "import matplotlib.pyplot as plt\n",
    "from sklearn.linear_model import Ridge\n",
    "from sklearn.linear_model import LinearRegression\n",
    "from sklearn.linear_model import Lasso\n",
    "from sklearn.preprocessing import StandardScaler\n",
    "from sklearn.model_selection import train_test_split\n",
    "from sklearn.neighbors import NearestNeighbors"
   ]
  },
  {
   "cell_type": "code",
   "execution_count": 2,
   "metadata": {},
   "outputs": [
    {
     "data": {
      "text/plain": [
       "'X_train:'"
      ]
     },
     "metadata": {},
     "output_type": "display_data"
    },
    {
     "data": {
      "text/plain": [
       "(1212, 833)"
      ]
     },
     "metadata": {},
     "output_type": "display_data"
    },
    {
     "data": {
      "text/html": [
       "<div>\n",
       "<style scoped>\n",
       "    .dataframe tbody tr th:only-of-type {\n",
       "        vertical-align: middle;\n",
       "    }\n",
       "\n",
       "    .dataframe tbody tr th {\n",
       "        vertical-align: top;\n",
       "    }\n",
       "\n",
       "    .dataframe thead th {\n",
       "        text-align: right;\n",
       "    }\n",
       "</style>\n",
       "<table border=\"1\" class=\"dataframe\">\n",
       "  <thead>\n",
       "    <tr style=\"text-align: right;\">\n",
       "      <th></th>\n",
       "      <th>id</th>\n",
       "      <th>x0</th>\n",
       "      <th>x1</th>\n",
       "      <th>x2</th>\n",
       "      <th>x3</th>\n",
       "      <th>x4</th>\n",
       "      <th>x5</th>\n",
       "      <th>x6</th>\n",
       "      <th>x7</th>\n",
       "      <th>x8</th>\n",
       "      <th>...</th>\n",
       "      <th>x822</th>\n",
       "      <th>x823</th>\n",
       "      <th>x824</th>\n",
       "      <th>x825</th>\n",
       "      <th>x826</th>\n",
       "      <th>x827</th>\n",
       "      <th>x828</th>\n",
       "      <th>x829</th>\n",
       "      <th>x830</th>\n",
       "      <th>x831</th>\n",
       "    </tr>\n",
       "  </thead>\n",
       "  <tbody>\n",
       "    <tr>\n",
       "      <th>0</th>\n",
       "      <td>0.0</td>\n",
       "      <td>118345.392781</td>\n",
       "      <td>3104.010883</td>\n",
       "      <td>82378.542430</td>\n",
       "      <td>1086.678601</td>\n",
       "      <td>11395.883550</td>\n",
       "      <td>10.455601</td>\n",
       "      <td>109886.476608</td>\n",
       "      <td>1.054926e+06</td>\n",
       "      <td>101877.946528</td>\n",
       "      <td>...</td>\n",
       "      <td>10.769524</td>\n",
       "      <td>10.245068</td>\n",
       "      <td>1021.907543</td>\n",
       "      <td>1031.645762</td>\n",
       "      <td>107440.039766</td>\n",
       "      <td>107083.296966</td>\n",
       "      <td>5559.203921</td>\n",
       "      <td>10.861464</td>\n",
       "      <td>107548.413675</td>\n",
       "      <td>2.299202</td>\n",
       "    </tr>\n",
       "    <tr>\n",
       "      <th>1</th>\n",
       "      <td>1.0</td>\n",
       "      <td>NaN</td>\n",
       "      <td>5889.055991</td>\n",
       "      <td>97932.067482</td>\n",
       "      <td>1116.564363</td>\n",
       "      <td>12172.212426</td>\n",
       "      <td>10.502997</td>\n",
       "      <td>100372.504488</td>\n",
       "      <td>1.011783e+06</td>\n",
       "      <td>108852.296962</td>\n",
       "      <td>...</td>\n",
       "      <td>10.859822</td>\n",
       "      <td>10.088023</td>\n",
       "      <td>988.135968</td>\n",
       "      <td>999.044639</td>\n",
       "      <td>105238.779040</td>\n",
       "      <td>106365.468525</td>\n",
       "      <td>10334.091649</td>\n",
       "      <td>NaN</td>\n",
       "      <td>107841.227180</td>\n",
       "      <td>2.472763</td>\n",
       "    </tr>\n",
       "    <tr>\n",
       "      <th>2</th>\n",
       "      <td>2.0</td>\n",
       "      <td>95373.022035</td>\n",
       "      <td>6293.442455</td>\n",
       "      <td>93371.369288</td>\n",
       "      <td>1034.722073</td>\n",
       "      <td>11618.142107</td>\n",
       "      <td>10.947611</td>\n",
       "      <td>109337.757279</td>\n",
       "      <td>1.006491e+06</td>\n",
       "      <td>104540.883376</td>\n",
       "      <td>...</td>\n",
       "      <td>10.356015</td>\n",
       "      <td>10.514234</td>\n",
       "      <td>995.480813</td>\n",
       "      <td>898.329758</td>\n",
       "      <td>107044.005199</td>\n",
       "      <td>102704.104686</td>\n",
       "      <td>7697.875887</td>\n",
       "      <td>10.277760</td>\n",
       "      <td>103414.594212</td>\n",
       "      <td>NaN</td>\n",
       "    </tr>\n",
       "    <tr>\n",
       "      <th>3</th>\n",
       "      <td>3.0</td>\n",
       "      <td>105066.272301</td>\n",
       "      <td>3279.162164</td>\n",
       "      <td>119554.079514</td>\n",
       "      <td>1114.014483</td>\n",
       "      <td>12127.235755</td>\n",
       "      <td>10.540204</td>\n",
       "      <td>106215.391332</td>\n",
       "      <td>1.022381e+06</td>\n",
       "      <td>109597.474506</td>\n",
       "      <td>...</td>\n",
       "      <td>10.609811</td>\n",
       "      <td>10.991861</td>\n",
       "      <td>1117.179063</td>\n",
       "      <td>867.267810</td>\n",
       "      <td>100617.082858</td>\n",
       "      <td>108893.304959</td>\n",
       "      <td>6549.131099</td>\n",
       "      <td>9.337688</td>\n",
       "      <td>105722.857008</td>\n",
       "      <td>2.484935</td>\n",
       "    </tr>\n",
       "    <tr>\n",
       "      <th>4</th>\n",
       "      <td>4.0</td>\n",
       "      <td>98957.033333</td>\n",
       "      <td>4177.482190</td>\n",
       "      <td>97239.708338</td>\n",
       "      <td>1049.430921</td>\n",
       "      <td>10417.250336</td>\n",
       "      <td>10.618957</td>\n",
       "      <td>102736.470171</td>\n",
       "      <td>1.086871e+06</td>\n",
       "      <td>103340.057448</td>\n",
       "      <td>...</td>\n",
       "      <td>10.397777</td>\n",
       "      <td>NaN</td>\n",
       "      <td>863.943966</td>\n",
       "      <td>1041.278922</td>\n",
       "      <td>105352.672454</td>\n",
       "      <td>101705.692839</td>\n",
       "      <td>5388.312773</td>\n",
       "      <td>12.196382</td>\n",
       "      <td>NaN</td>\n",
       "      <td>1.930136</td>\n",
       "    </tr>\n",
       "  </tbody>\n",
       "</table>\n",
       "<p>5 rows × 833 columns</p>\n",
       "</div>"
      ],
      "text/plain": [
       "    id             x0           x1             x2           x3            x4  \\\n",
       "0  0.0  118345.392781  3104.010883   82378.542430  1086.678601  11395.883550   \n",
       "1  1.0            NaN  5889.055991   97932.067482  1116.564363  12172.212426   \n",
       "2  2.0   95373.022035  6293.442455   93371.369288  1034.722073  11618.142107   \n",
       "3  3.0  105066.272301  3279.162164  119554.079514  1114.014483  12127.235755   \n",
       "4  4.0   98957.033333  4177.482190   97239.708338  1049.430921  10417.250336   \n",
       "\n",
       "          x5             x6            x7             x8  ...       x822  \\\n",
       "0  10.455601  109886.476608  1.054926e+06  101877.946528  ...  10.769524   \n",
       "1  10.502997  100372.504488  1.011783e+06  108852.296962  ...  10.859822   \n",
       "2  10.947611  109337.757279  1.006491e+06  104540.883376  ...  10.356015   \n",
       "3  10.540204  106215.391332  1.022381e+06  109597.474506  ...  10.609811   \n",
       "4  10.618957  102736.470171  1.086871e+06  103340.057448  ...  10.397777   \n",
       "\n",
       "        x823         x824         x825           x826           x827  \\\n",
       "0  10.245068  1021.907543  1031.645762  107440.039766  107083.296966   \n",
       "1  10.088023   988.135968   999.044639  105238.779040  106365.468525   \n",
       "2  10.514234   995.480813   898.329758  107044.005199  102704.104686   \n",
       "3  10.991861  1117.179063   867.267810  100617.082858  108893.304959   \n",
       "4        NaN   863.943966  1041.278922  105352.672454  101705.692839   \n",
       "\n",
       "           x828       x829           x830      x831  \n",
       "0   5559.203921  10.861464  107548.413675  2.299202  \n",
       "1  10334.091649        NaN  107841.227180  2.472763  \n",
       "2   7697.875887  10.277760  103414.594212       NaN  \n",
       "3   6549.131099   9.337688  105722.857008  2.484935  \n",
       "4   5388.312773  12.196382            NaN  1.930136  \n",
       "\n",
       "[5 rows x 833 columns]"
      ]
     },
     "metadata": {},
     "output_type": "display_data"
    },
    {
     "data": {
      "text/plain": [
       "'y_train:'"
      ]
     },
     "metadata": {},
     "output_type": "display_data"
    },
    {
     "data": {
      "text/plain": [
       "(1212, 2)"
      ]
     },
     "metadata": {},
     "output_type": "display_data"
    },
    {
     "data": {
      "text/html": [
       "<div>\n",
       "<style scoped>\n",
       "    .dataframe tbody tr th:only-of-type {\n",
       "        vertical-align: middle;\n",
       "    }\n",
       "\n",
       "    .dataframe tbody tr th {\n",
       "        vertical-align: top;\n",
       "    }\n",
       "\n",
       "    .dataframe thead th {\n",
       "        text-align: right;\n",
       "    }\n",
       "</style>\n",
       "<table border=\"1\" class=\"dataframe\">\n",
       "  <thead>\n",
       "    <tr style=\"text-align: right;\">\n",
       "      <th></th>\n",
       "      <th>id</th>\n",
       "      <th>y</th>\n",
       "    </tr>\n",
       "  </thead>\n",
       "  <tbody>\n",
       "    <tr>\n",
       "      <th>0</th>\n",
       "      <td>0.0</td>\n",
       "      <td>75.0</td>\n",
       "    </tr>\n",
       "    <tr>\n",
       "      <th>1</th>\n",
       "      <td>1.0</td>\n",
       "      <td>53.0</td>\n",
       "    </tr>\n",
       "    <tr>\n",
       "      <th>2</th>\n",
       "      <td>2.0</td>\n",
       "      <td>78.0</td>\n",
       "    </tr>\n",
       "    <tr>\n",
       "      <th>3</th>\n",
       "      <td>3.0</td>\n",
       "      <td>65.0</td>\n",
       "    </tr>\n",
       "    <tr>\n",
       "      <th>4</th>\n",
       "      <td>4.0</td>\n",
       "      <td>86.0</td>\n",
       "    </tr>\n",
       "  </tbody>\n",
       "</table>\n",
       "</div>"
      ],
      "text/plain": [
       "    id     y\n",
       "0  0.0  75.0\n",
       "1  1.0  53.0\n",
       "2  2.0  78.0\n",
       "3  3.0  65.0\n",
       "4  4.0  86.0"
      ]
     },
     "metadata": {},
     "output_type": "display_data"
    }
   ],
   "source": [
    "# Import Training Set\n",
    "\n",
    "X_train = pd.read_csv(\"X_train.csv\")\n",
    "y_train = pd.read_csv(r\"y_train.csv\")\n",
    "\n",
    "display('X_train:', X_train.shape, X_train.head())\n",
    "display('y_train:', y_train.shape, y_train.head())"
   ]
  },
  {
   "cell_type": "code",
   "execution_count": 3,
   "metadata": {},
   "outputs": [
    {
     "data": {
      "text/plain": [
       "'X_train.head():'"
      ]
     },
     "metadata": {},
     "output_type": "display_data"
    },
    {
     "data": {
      "text/html": [
       "<div>\n",
       "<style scoped>\n",
       "    .dataframe tbody tr th:only-of-type {\n",
       "        vertical-align: middle;\n",
       "    }\n",
       "\n",
       "    .dataframe tbody tr th {\n",
       "        vertical-align: top;\n",
       "    }\n",
       "\n",
       "    .dataframe thead th {\n",
       "        text-align: right;\n",
       "    }\n",
       "</style>\n",
       "<table border=\"1\" class=\"dataframe\">\n",
       "  <thead>\n",
       "    <tr style=\"text-align: right;\">\n",
       "      <th></th>\n",
       "      <th>x0</th>\n",
       "      <th>x1</th>\n",
       "      <th>x2</th>\n",
       "      <th>x3</th>\n",
       "      <th>x4</th>\n",
       "      <th>x5</th>\n",
       "      <th>x6</th>\n",
       "      <th>x7</th>\n",
       "      <th>x8</th>\n",
       "      <th>x9</th>\n",
       "      <th>...</th>\n",
       "      <th>x822</th>\n",
       "      <th>x823</th>\n",
       "      <th>x824</th>\n",
       "      <th>x825</th>\n",
       "      <th>x826</th>\n",
       "      <th>x827</th>\n",
       "      <th>x828</th>\n",
       "      <th>x829</th>\n",
       "      <th>x830</th>\n",
       "      <th>x831</th>\n",
       "    </tr>\n",
       "  </thead>\n",
       "  <tbody>\n",
       "    <tr>\n",
       "      <th>0</th>\n",
       "      <td>118345.392781</td>\n",
       "      <td>3104.010883</td>\n",
       "      <td>82378.542430</td>\n",
       "      <td>1086.678601</td>\n",
       "      <td>11395.883550</td>\n",
       "      <td>10.455601</td>\n",
       "      <td>109886.476608</td>\n",
       "      <td>1.054926e+06</td>\n",
       "      <td>101877.946528</td>\n",
       "      <td>2.550290</td>\n",
       "      <td>...</td>\n",
       "      <td>10.769524</td>\n",
       "      <td>10.245068</td>\n",
       "      <td>1021.907543</td>\n",
       "      <td>1031.645762</td>\n",
       "      <td>107440.039766</td>\n",
       "      <td>107083.296966</td>\n",
       "      <td>5559.203921</td>\n",
       "      <td>10.861464</td>\n",
       "      <td>107548.413675</td>\n",
       "      <td>2.299202</td>\n",
       "    </tr>\n",
       "    <tr>\n",
       "      <th>1</th>\n",
       "      <td>NaN</td>\n",
       "      <td>5889.055991</td>\n",
       "      <td>97932.067482</td>\n",
       "      <td>1116.564363</td>\n",
       "      <td>12172.212426</td>\n",
       "      <td>10.502997</td>\n",
       "      <td>100372.504488</td>\n",
       "      <td>1.011783e+06</td>\n",
       "      <td>108852.296962</td>\n",
       "      <td>2.579040</td>\n",
       "      <td>...</td>\n",
       "      <td>10.859822</td>\n",
       "      <td>10.088023</td>\n",
       "      <td>988.135968</td>\n",
       "      <td>999.044639</td>\n",
       "      <td>105238.779040</td>\n",
       "      <td>106365.468525</td>\n",
       "      <td>10334.091649</td>\n",
       "      <td>NaN</td>\n",
       "      <td>107841.227180</td>\n",
       "      <td>2.472763</td>\n",
       "    </tr>\n",
       "    <tr>\n",
       "      <th>2</th>\n",
       "      <td>95373.022035</td>\n",
       "      <td>6293.442455</td>\n",
       "      <td>93371.369288</td>\n",
       "      <td>1034.722073</td>\n",
       "      <td>11618.142107</td>\n",
       "      <td>10.947611</td>\n",
       "      <td>109337.757279</td>\n",
       "      <td>1.006491e+06</td>\n",
       "      <td>104540.883376</td>\n",
       "      <td>2.573247</td>\n",
       "      <td>...</td>\n",
       "      <td>10.356015</td>\n",
       "      <td>10.514234</td>\n",
       "      <td>995.480813</td>\n",
       "      <td>898.329758</td>\n",
       "      <td>107044.005199</td>\n",
       "      <td>102704.104686</td>\n",
       "      <td>7697.875887</td>\n",
       "      <td>10.277760</td>\n",
       "      <td>103414.594212</td>\n",
       "      <td>NaN</td>\n",
       "    </tr>\n",
       "    <tr>\n",
       "      <th>3</th>\n",
       "      <td>105066.272301</td>\n",
       "      <td>3279.162164</td>\n",
       "      <td>119554.079514</td>\n",
       "      <td>1114.014483</td>\n",
       "      <td>12127.235755</td>\n",
       "      <td>10.540204</td>\n",
       "      <td>106215.391332</td>\n",
       "      <td>1.022381e+06</td>\n",
       "      <td>109597.474506</td>\n",
       "      <td>2.693256</td>\n",
       "      <td>...</td>\n",
       "      <td>10.609811</td>\n",
       "      <td>10.991861</td>\n",
       "      <td>1117.179063</td>\n",
       "      <td>867.267810</td>\n",
       "      <td>100617.082858</td>\n",
       "      <td>108893.304959</td>\n",
       "      <td>6549.131099</td>\n",
       "      <td>9.337688</td>\n",
       "      <td>105722.857008</td>\n",
       "      <td>2.484935</td>\n",
       "    </tr>\n",
       "    <tr>\n",
       "      <th>4</th>\n",
       "      <td>98957.033333</td>\n",
       "      <td>4177.482190</td>\n",
       "      <td>97239.708338</td>\n",
       "      <td>1049.430921</td>\n",
       "      <td>10417.250336</td>\n",
       "      <td>10.618957</td>\n",
       "      <td>102736.470171</td>\n",
       "      <td>1.086871e+06</td>\n",
       "      <td>103340.057448</td>\n",
       "      <td>2.540610</td>\n",
       "      <td>...</td>\n",
       "      <td>10.397777</td>\n",
       "      <td>NaN</td>\n",
       "      <td>863.943966</td>\n",
       "      <td>1041.278922</td>\n",
       "      <td>105352.672454</td>\n",
       "      <td>101705.692839</td>\n",
       "      <td>5388.312773</td>\n",
       "      <td>12.196382</td>\n",
       "      <td>NaN</td>\n",
       "      <td>1.930136</td>\n",
       "    </tr>\n",
       "  </tbody>\n",
       "</table>\n",
       "<p>5 rows × 832 columns</p>\n",
       "</div>"
      ],
      "text/plain": [
       "              x0           x1             x2           x3            x4  \\\n",
       "0  118345.392781  3104.010883   82378.542430  1086.678601  11395.883550   \n",
       "1            NaN  5889.055991   97932.067482  1116.564363  12172.212426   \n",
       "2   95373.022035  6293.442455   93371.369288  1034.722073  11618.142107   \n",
       "3  105066.272301  3279.162164  119554.079514  1114.014483  12127.235755   \n",
       "4   98957.033333  4177.482190   97239.708338  1049.430921  10417.250336   \n",
       "\n",
       "          x5             x6            x7             x8        x9  ...  \\\n",
       "0  10.455601  109886.476608  1.054926e+06  101877.946528  2.550290  ...   \n",
       "1  10.502997  100372.504488  1.011783e+06  108852.296962  2.579040  ...   \n",
       "2  10.947611  109337.757279  1.006491e+06  104540.883376  2.573247  ...   \n",
       "3  10.540204  106215.391332  1.022381e+06  109597.474506  2.693256  ...   \n",
       "4  10.618957  102736.470171  1.086871e+06  103340.057448  2.540610  ...   \n",
       "\n",
       "        x822       x823         x824         x825           x826  \\\n",
       "0  10.769524  10.245068  1021.907543  1031.645762  107440.039766   \n",
       "1  10.859822  10.088023   988.135968   999.044639  105238.779040   \n",
       "2  10.356015  10.514234   995.480813   898.329758  107044.005199   \n",
       "3  10.609811  10.991861  1117.179063   867.267810  100617.082858   \n",
       "4  10.397777        NaN   863.943966  1041.278922  105352.672454   \n",
       "\n",
       "            x827          x828       x829           x830      x831  \n",
       "0  107083.296966   5559.203921  10.861464  107548.413675  2.299202  \n",
       "1  106365.468525  10334.091649        NaN  107841.227180  2.472763  \n",
       "2  102704.104686   7697.875887  10.277760  103414.594212       NaN  \n",
       "3  108893.304959   6549.131099   9.337688  105722.857008  2.484935  \n",
       "4  101705.692839   5388.312773  12.196382            NaN  1.930136  \n",
       "\n",
       "[5 rows x 832 columns]"
      ]
     },
     "metadata": {},
     "output_type": "display_data"
    },
    {
     "name": "stdout",
     "output_type": "stream",
     "text": [
      "X_train.shape: (1212, 832)\n",
      " \n"
     ]
    },
    {
     "data": {
      "text/plain": [
       "'y_train.head():'"
      ]
     },
     "metadata": {},
     "output_type": "display_data"
    },
    {
     "data": {
      "text/html": [
       "<div>\n",
       "<style scoped>\n",
       "    .dataframe tbody tr th:only-of-type {\n",
       "        vertical-align: middle;\n",
       "    }\n",
       "\n",
       "    .dataframe tbody tr th {\n",
       "        vertical-align: top;\n",
       "    }\n",
       "\n",
       "    .dataframe thead th {\n",
       "        text-align: right;\n",
       "    }\n",
       "</style>\n",
       "<table border=\"1\" class=\"dataframe\">\n",
       "  <thead>\n",
       "    <tr style=\"text-align: right;\">\n",
       "      <th></th>\n",
       "      <th>y</th>\n",
       "    </tr>\n",
       "  </thead>\n",
       "  <tbody>\n",
       "    <tr>\n",
       "      <th>0</th>\n",
       "      <td>75.0</td>\n",
       "    </tr>\n",
       "    <tr>\n",
       "      <th>1</th>\n",
       "      <td>53.0</td>\n",
       "    </tr>\n",
       "    <tr>\n",
       "      <th>2</th>\n",
       "      <td>78.0</td>\n",
       "    </tr>\n",
       "    <tr>\n",
       "      <th>3</th>\n",
       "      <td>65.0</td>\n",
       "    </tr>\n",
       "    <tr>\n",
       "      <th>4</th>\n",
       "      <td>86.0</td>\n",
       "    </tr>\n",
       "  </tbody>\n",
       "</table>\n",
       "</div>"
      ],
      "text/plain": [
       "      y\n",
       "0  75.0\n",
       "1  53.0\n",
       "2  78.0\n",
       "3  65.0\n",
       "4  86.0"
      ]
     },
     "metadata": {},
     "output_type": "display_data"
    },
    {
     "name": "stdout",
     "output_type": "stream",
     "text": [
      "y_train.shape: (1212, 1)\n"
     ]
    }
   ],
   "source": [
    "# Drop id column for X_train and y_train\n",
    "\n",
    "X_train = X_train.drop(columns='id', axis=1)\n",
    "display(\"X_train.head():\", X_train.head())\n",
    "print(\"X_train.shape:\", X_train.shape)\n",
    "\n",
    "print(\" \")\n",
    "\n",
    "y_train = y_train.drop(columns='id', axis=1)\n",
    "display(\"y_train.head():\", y_train.head())\n",
    "print(\"y_train.shape:\", y_train.shape)"
   ]
  },
  {
   "cell_type": "code",
   "execution_count": 7,
   "metadata": {},
   "outputs": [
    {
     "ename": "AttributeError",
     "evalue": "'numpy.ndarray' object has no attribute 'fillna'",
     "output_type": "error",
     "traceback": [
      "\u001b[0;31m---------------------------------------------------------------------------\u001b[0m",
      "\u001b[0;31mAttributeError\u001b[0m                            Traceback (most recent call last)",
      "\u001b[0;32m<ipython-input-7-162d7b56315f>\u001b[0m in \u001b[0;36m<module>\u001b[0;34m\u001b[0m\n\u001b[1;32m      1\u001b[0m \u001b[0;31m# Fill in data with mean\u001b[0m\u001b[0;34m\u001b[0m\u001b[0;34m\u001b[0m\u001b[0;34m\u001b[0m\u001b[0m\n\u001b[1;32m      2\u001b[0m \u001b[0;34m\u001b[0m\u001b[0m\n\u001b[0;32m----> 3\u001b[0;31m \u001b[0mX_train\u001b[0m\u001b[0;34m.\u001b[0m\u001b[0mfillna\u001b[0m\u001b[0;34m(\u001b[0m\u001b[0mnp\u001b[0m\u001b[0;34m.\u001b[0m\u001b[0mnanmean\u001b[0m\u001b[0;34m(\u001b[0m\u001b[0mX_train\u001b[0m\u001b[0;34m)\u001b[0m\u001b[0;34m,\u001b[0m \u001b[0minplace\u001b[0m\u001b[0;34m=\u001b[0m\u001b[0;32mTrue\u001b[0m\u001b[0;34m)\u001b[0m\u001b[0;34m\u001b[0m\u001b[0;34m\u001b[0m\u001b[0m\n\u001b[0m\u001b[1;32m      4\u001b[0m \u001b[0mdisplay\u001b[0m\u001b[0;34m(\u001b[0m\u001b[0mX_train\u001b[0m\u001b[0;34m.\u001b[0m\u001b[0mhead\u001b[0m\u001b[0;34m(\u001b[0m\u001b[0;34m)\u001b[0m\u001b[0;34m)\u001b[0m\u001b[0;34m\u001b[0m\u001b[0;34m\u001b[0m\u001b[0m\n\u001b[1;32m      5\u001b[0m \u001b[0;34m\u001b[0m\u001b[0m\n",
      "\u001b[0;31mAttributeError\u001b[0m: 'numpy.ndarray' object has no attribute 'fillna'"
     ]
    }
   ],
   "source": [
    "# Fill in data with mean\n",
    "\n",
    "X_train.fillna(np.nanmean(X_train), inplace=True)\n",
    "display(X_train.head())\n",
    "\n",
    "# and look at NaNs\n",
    "\n",
    "display(\"\\nTotal Number of NaN in X_train:\", X_train.isna().sum(axis=1).sum(axis=0))\n",
    "print(\" \")"
   ]
  },
  {
   "cell_type": "code",
   "execution_count": 5,
   "metadata": {},
   "outputs": [
    {
     "name": "stdout",
     "output_type": "stream",
     "text": [
      "Mean X_train: 6.2545170870329054e-18\n"
     ]
    },
    {
     "data": {
      "text/plain": [
       "array([[ 0.26761547,  0.3047564 ,  0.28660575, ...,  0.29659952,\n",
       "         0.27288841,  0.28660575],\n",
       "       [-3.73670483,  0.3047564 ,  0.28660575, ..., -3.37154963,\n",
       "         0.27288841,  0.28660575],\n",
       "       [ 0.26761547,  0.3047564 ,  0.28660575, ...,  0.29659952,\n",
       "         0.27288841, -3.4891135 ],\n",
       "       ...,\n",
       "       [ 0.26761547, -3.28130923,  0.28660575, ...,  0.29659952,\n",
       "        -3.66450153,  0.28660575],\n",
       "       [-3.73670483,  0.3047564 ,  0.28660575, ...,  0.29659952,\n",
       "         0.27288841,  0.28660575],\n",
       "       [ 0.26761547,  0.3047564 ,  0.28660575, ...,  0.29659952,\n",
       "         0.27288841,  0.28660575]])"
      ]
     },
     "metadata": {},
     "output_type": "display_data"
    },
    {
     "data": {
      "text/plain": [
       "array([[75.],\n",
       "       [53.],\n",
       "       [78.],\n",
       "       ...,\n",
       "       [74.],\n",
       "       [78.],\n",
       "       [64.]])"
      ]
     },
     "metadata": {},
     "output_type": "display_data"
    }
   ],
   "source": [
    "# Standardize\n",
    "\n",
    "scaler = StandardScaler()\n",
    "\n",
    "X_train = scaler.fit_transform(X_train)\n",
    "print(\"Mean X_train:\", X_train.mean(axis=0).mean(axis=0))\n",
    "display(X_train)\n",
    "\n",
    "y_train = y_train.values\n",
    "display(y_train)"
   ]
  },
  {
   "cell_type": "code",
   "execution_count": 10,
   "metadata": {},
   "outputs": [
    {
     "name": "stdout",
     "output_type": "stream",
     "text": [
      "mean_dist_10NN_vec.shape: (1212, 10)\n",
      "mean_dist_10NN_dp: [32.77806707 34.30324168 32.4116099  ... 33.2313406  33.20183597\n",
      " 35.0333918 ]\n",
      "threshold: 35.06419342152029\n"
     ]
    }
   ],
   "source": [
    "# Outlier detection\n",
    "\n",
    "# Calculate mean distance to 10 nearest neighbors\n",
    "\n",
    "neigh = NearestNeighbors(n_neighbors=10)\n",
    "neigh.fit(X_train)\n",
    "\n",
    "mean_dist_10NN_vec, indices = neigh.kneighbors(X_train, return_distance=True)\n",
    "print(\"mean_dist_10NN_vec.shape:\", mean_dist_10NN_vec.shape)\n",
    "\n",
    "mean_dist_10NN_dp = mean_dist_10NN_vec.mean(axis=1)\n",
    "print(\"mean_dist_10NN_dp:\", mean_dist_10NN_dp)\n",
    "\n",
    "\n",
    "factor = 1.05\n",
    "mean_dist_tot = mean_dist_10NN_vec.mean()\n",
    "threshold = factor * mean_dist_tot\n",
    "print(\"threshold:\", threshold)"
   ]
  },
  {
   "cell_type": "markdown",
   "metadata": {},
   "source": [
    "1.) change either KNN (number of neighbors) or factor // alternative: through a certain percentage of data with biggest avg distance"
   ]
  },
  {
   "cell_type": "code",
   "execution_count": 11,
   "metadata": {},
   "outputs": [
    {
     "name": "stdout",
     "output_type": "stream",
     "text": [
      "Number of indices to be removed: 84\n",
      "New number of data after droping points with too long mean_dist from KNN: 1128\n"
     ]
    }
   ],
   "source": [
    "# find indices to be removed\n",
    "\n",
    "index_to_be_removed = mean_dist_10NN_dp > threshold\n",
    "print(\"Number of indices to be removed:\", index_to_be_removed.sum())\n",
    "\n",
    "X_train = np.delete(X_train, np.where(index_to_be_removed), axis=0)\n",
    "print(\"New number of data after droping points with too long mean_dist from KNN:\", X_train.shape[0])"
   ]
  },
  {
   "cell_type": "code",
   "execution_count": null,
   "metadata": {},
   "outputs": [],
   "source": []
  },
  {
   "cell_type": "code",
   "execution_count": 22,
   "metadata": {},
   "outputs": [],
   "source": [
    "# Split in Training & Test for Cross validation\n",
    "\n",
    "X_train, y_train, X_test, y_test = train_test_split(X_train, y_train, test_size=0.1)"
   ]
  },
  {
   "cell_type": "code",
   "execution_count": 54,
   "metadata": {},
   "outputs": [
    {
     "name": "stdout",
     "output_type": "stream",
     "text": [
      "X_test.shape: (776, 833)\n"
     ]
    }
   ],
   "source": [
    "# For Final Submission\n",
    "\n",
    "# Import Testing Set\n",
    "\n",
    "X_test = pd.read_csv(r\"X_test.csv\")\n",
    "print(\"X_test.shape:\", X_test.shape)"
   ]
  },
  {
   "cell_type": "code",
   "execution_count": 55,
   "metadata": {},
   "outputs": [
    {
     "data": {
      "text/plain": [
       "40637"
      ]
     },
     "metadata": {},
     "output_type": "display_data"
    }
   ],
   "source": [
    "# Drop id column from X_test\n",
    "\n",
    "X_test = X_test.drop(columns='id', axis=1)\n",
    "display(X_test.isna().sum(axis=0).sum(axis=0))"
   ]
  },
  {
   "cell_type": "code",
   "execution_count": 56,
   "metadata": {},
   "outputs": [],
   "source": []
  },
  {
   "cell_type": "code",
   "execution_count": 57,
   "metadata": {},
   "outputs": [],
   "source": [
    "# Predict y values for X_test\n",
    "\n",
    "y_pred = model.predict(X_test)"
   ]
  },
  {
   "cell_type": "code",
   "execution_count": 58,
   "metadata": {},
   "outputs": [
    {
     "data": {
      "text/html": [
       "<div>\n",
       "<style scoped>\n",
       "    .dataframe tbody tr th:only-of-type {\n",
       "        vertical-align: middle;\n",
       "    }\n",
       "\n",
       "    .dataframe tbody tr th {\n",
       "        vertical-align: top;\n",
       "    }\n",
       "\n",
       "    .dataframe thead th {\n",
       "        text-align: right;\n",
       "    }\n",
       "</style>\n",
       "<table border=\"1\" class=\"dataframe\">\n",
       "  <thead>\n",
       "    <tr style=\"text-align: right;\">\n",
       "      <th></th>\n",
       "      <th>0</th>\n",
       "    </tr>\n",
       "  </thead>\n",
       "  <tbody>\n",
       "    <tr>\n",
       "      <th>0</th>\n",
       "      <td>66.170301</td>\n",
       "    </tr>\n",
       "    <tr>\n",
       "      <th>1</th>\n",
       "      <td>69.833853</td>\n",
       "    </tr>\n",
       "    <tr>\n",
       "      <th>2</th>\n",
       "      <td>81.326555</td>\n",
       "    </tr>\n",
       "    <tr>\n",
       "      <th>3</th>\n",
       "      <td>72.457769</td>\n",
       "    </tr>\n",
       "    <tr>\n",
       "      <th>4</th>\n",
       "      <td>73.726879</td>\n",
       "    </tr>\n",
       "  </tbody>\n",
       "</table>\n",
       "</div>"
      ],
      "text/plain": [
       "           0\n",
       "0  66.170301\n",
       "1  69.833853\n",
       "2  81.326555\n",
       "3  72.457769\n",
       "4  73.726879"
      ]
     },
     "metadata": {},
     "output_type": "display_data"
    },
    {
     "name": "stdout",
     "output_type": "stream",
     "text": [
      "y_pred.shape: (776, 1)\n"
     ]
    }
   ],
   "source": [
    "# Now we try again:\n",
    "\n",
    "y_pred = model.predict(X_test)\n",
    "y_pred = pd.DataFrame(y_pred)\n",
    "\n",
    "display(y_pred.head())\n",
    "print(\"y_pred.shape:\", y_pred.shape)"
   ]
  },
  {
   "cell_type": "code",
   "execution_count": 59,
   "metadata": {},
   "outputs": [],
   "source": [
    "# Store values in submission format\n",
    "\n",
    "y_submission1 = pd.DataFrame(columns=['id','y'])\n",
    "y_submission1.id = np.arange(0,776)\n",
    "y_submission1.y = y_pred"
   ]
  },
  {
   "cell_type": "code",
   "execution_count": 60,
   "metadata": {},
   "outputs": [],
   "source": [
    "y_submission1.to_csv(\"y_submission1_nan_mean.csv\", index=False)"
   ]
  },
  {
   "cell_type": "markdown",
   "metadata": {},
   "source": [
    "### METHOD2: Linear Regression (normalized), fit intercept calculated"
   ]
  },
  {
   "cell_type": "code",
   "execution_count": 61,
   "metadata": {},
   "outputs": [
    {
     "data": {
      "text/plain": [
       "LinearRegression(copy_X=True, fit_intercept=True, n_jobs=None, normalize=True)"
      ]
     },
     "execution_count": 61,
     "metadata": {},
     "output_type": "execute_result"
    }
   ],
   "source": [
    "# New model is the same as before, but with normalization\n",
    "\n",
    "model2 = LinearRegression(fit_intercept=True, normalize=True)\n",
    "model2.fit(X_train, y_train)"
   ]
  },
  {
   "cell_type": "code",
   "execution_count": 62,
   "metadata": {},
   "outputs": [],
   "source": [
    "# Same as before but with new model\n",
    "\n",
    "y_pred2 = model2.predict(X_test)"
   ]
  },
  {
   "cell_type": "code",
   "execution_count": 63,
   "metadata": {},
   "outputs": [
    {
     "name": "stdout",
     "output_type": "stream",
     "text": [
      "Mean of y_pred without normalizing: 0    69.773089\n",
      "dtype: float64\n",
      " \n",
      "Mean of y_pred normalizing: 69.00098670539015\n"
     ]
    }
   ],
   "source": [
    "print(\"Mean of y_pred without normalizing:\", y_pred.mean())\n",
    "print(\" \")\n",
    "print(\"Mean of y_pred normalizing:\", y_pred2.mean())"
   ]
  },
  {
   "cell_type": "markdown",
   "metadata": {},
   "source": [
    "##### -> The difference in mean is very notable!"
   ]
  },
  {
   "cell_type": "code",
   "execution_count": 64,
   "metadata": {},
   "outputs": [],
   "source": [
    "# Store values in submission format\n",
    "\n",
    "y_submission2 = pd.DataFrame(columns=['id','y'])\n",
    "y_submission2.id = np.arange(0,776)\n",
    "y_submission2.y = y_pred2\n",
    "\n",
    "y_submission2.to_csv(\"y_submission2_nan_mean_normalized.csv\", index=False)"
   ]
  },
  {
   "cell_type": "markdown",
   "metadata": {},
   "source": []
  },
  {
   "cell_type": "code",
   "execution_count": 65,
   "metadata": {},
   "outputs": [
    {
     "ename": "TypeError",
     "evalue": "'float' object cannot be interpreted as an integer",
     "output_type": "error",
     "traceback": [
      "\u001b[0;31m---------------------------------------------------------------------------\u001b[0m",
      "\u001b[0;31mTypeError\u001b[0m                                 Traceback (most recent call last)",
      "\u001b[0;32m<ipython-input-65-82c011f55864>\u001b[0m in \u001b[0;36m<module>\u001b[0;34m\u001b[0m\n\u001b[1;32m      1\u001b[0m \u001b[0;31m# New model is Ridge Regression\u001b[0m\u001b[0;34m\u001b[0m\u001b[0;34m\u001b[0m\u001b[0;34m\u001b[0m\u001b[0m\n\u001b[1;32m      2\u001b[0m \u001b[0;34m\u001b[0m\u001b[0m\n\u001b[0;32m----> 3\u001b[0;31m \u001b[0;32mfor\u001b[0m \u001b[0ma\u001b[0m \u001b[0;32min\u001b[0m \u001b[0mrange\u001b[0m\u001b[0;34m(\u001b[0m\u001b[0;36m1\u001b[0m\u001b[0;34m,\u001b[0m\u001b[0;36m5\u001b[0m\u001b[0;34m,\u001b[0m\u001b[0;36m0.1\u001b[0m\u001b[0;34m)\u001b[0m\u001b[0;34m:\u001b[0m\u001b[0;34m\u001b[0m\u001b[0;34m\u001b[0m\u001b[0m\n\u001b[0m\u001b[1;32m      4\u001b[0m     \u001b[0mmodel3\u001b[0m \u001b[0;34m=\u001b[0m \u001b[0mRidge\u001b[0m\u001b[0;34m(\u001b[0m\u001b[0ma\u001b[0m\u001b[0;34m,\u001b[0m\u001b[0mfit_intercept\u001b[0m\u001b[0;34m=\u001b[0m\u001b[0;32mTrue\u001b[0m\u001b[0;34m,\u001b[0m \u001b[0mnormalize\u001b[0m\u001b[0;34m=\u001b[0m\u001b[0;32mTrue\u001b[0m\u001b[0;34m)\u001b[0m\u001b[0;34m\u001b[0m\u001b[0;34m\u001b[0m\u001b[0m\n\u001b[1;32m      5\u001b[0m     \u001b[0mmodel3\u001b[0m\u001b[0;34m.\u001b[0m\u001b[0mfit\u001b[0m\u001b[0;34m(\u001b[0m\u001b[0mX_train\u001b[0m\u001b[0;34m,\u001b[0m \u001b[0my_train\u001b[0m\u001b[0;34m)\u001b[0m\u001b[0;34m\u001b[0m\u001b[0;34m\u001b[0m\u001b[0m\n",
      "\u001b[0;31mTypeError\u001b[0m: 'float' object cannot be interpreted as an integer"
     ]
    }
   ],
   "source": []
  },
  {
   "cell_type": "code",
   "execution_count": null,
   "metadata": {},
   "outputs": [],
   "source": []
  }
 ],
 "metadata": {
  "kernelspec": {
   "display_name": "Python 3",
   "language": "python",
   "name": "python3"
  },
  "language_info": {
   "codemirror_mode": {
    "name": "ipython",
    "version": 3
   },
   "file_extension": ".py",
   "mimetype": "text/x-python",
   "name": "python",
   "nbconvert_exporter": "python",
   "pygments_lexer": "ipython3",
   "version": "3.7.3"
  }
 },
 "nbformat": 4,
 "nbformat_minor": 4
}